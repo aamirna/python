{
 "cells": [
  {
   "cell_type": "code",
   "execution_count": null,
   "metadata": {},
   "outputs": [],
   "source": []
  },
  {
   "cell_type": "code",
   "execution_count": null,
   "metadata": {},
   "outputs": [],
   "source": []
  },
  {
   "cell_type": "code",
   "execution_count": null,
   "metadata": {
    "scrolled": true
   },
   "outputs": [],
   "source": [
    "import text_module\n",
    "\n",
    "text = '''Lorem ipsum dolor sit amet, consectetur adipiscing elit, sed do eiusmod tempor incididunt ut labore et dolore magna\n",
    "aliqua. Tortor vitae purus faucibus ornare. Augue interdum velit euismod in pellentesque massa placerat duis. Cras sed felis \n",
    "eget velit aliquet. Sit amet dictum sit amet justo. Aliquam ut porttitor leo a diam sollicitudin tempor id eu. Placerat duis\n",
    "ultricies lacus sed turpis tincidunt id. Commodo sed egestas egestas fringilla phasellus faucibus scelerisque eleifend. \n",
    "Pellentesque dignissim enim sit amet venenatis urna. Tempus urna et pharetra pharetra massa massa.\n",
    "\n",
    "    In tellus integer feugiat scelerisque varius morbi. Sit amet volutpat consequat mauris nunc congue nisi vitae. Ut tristique et \n",
    "egestas quis ipsum. Nulla aliquet porttitor lacus luctus accumsan. Amet purus gravida quis blandit turpis. Odio ut sem nulla \n",
    "pharetra diam sit amet nisl. Arcu cursus vitae congue mauris rhoncus aenean vel elit scelerisque. In massa tempor nec feugiat \n",
    "nisl. Pretium viverra suspendisse potenti nullam ac tortor. Vitae turpis massa sed elementum. Vitae tempus quam pellentesque \n",
    "nec nam aliquam sem et. Id porta nibh venenatis cras sed felis. Turpis nunc eget lorem dolor sed. In hendrerit gravida rutrum \n",
    "quisque non tellus orci ac. Vel elit scelerisque mauris pellentesque pulvinar. Ornare aenean euismod elementum nisi quis \n",
    "eleifend. Dictum non consectetur a erat.\n",
    "\n",
    "    Quisque id diam vel quam. Elementum sagittis vitae et leo duis ut. Amet facilisis magna etiam tempor orci eu. Et odio \n",
    "pellentesque diam volutpat commodo. Cursus turpis massa tincidunt dui ut. Volutpat consequat mauris nunc congue nisi vitae.\n",
    "Egestas fringilla phasellus faucibus scelerisque eleifend donec pretium vulputate sapien. Vulputate enim nulla aliquet\n",
    "porttitor lacus luctus. Nunc id cursus metus aliquam eleifend mi in nulla posuere. Ipsum faucibus vitae aliquet nec ullamcorper\n",
    "sit. Porta nibh venenatis cras sed felis. Adipiscing elit ut aliquam purus sit amet luctus venenatis lectus. Amet mauris commodo\n",
    "quis imperdiet massa tincidunt nunc pulvinar. Sit amet est placerat in egestas.'''\n",
    "\n",
    "#Count Tabs\n",
    "number_of_tabs = text_module.count_tabs(text=text)\n",
    "print(number_of_tabs)"
   ]
  },
  {
   "cell_type": "code",
   "execution_count": null,
   "metadata": {},
   "outputs": [],
   "source": [
    "#Count lines\n",
    "import text_module\n",
    "number_of_lines = text_module.count_lines(text=text)\n",
    "print(number_of_lines)"
   ]
  },
  {
   "cell_type": "code",
   "execution_count": null,
   "metadata": {},
   "outputs": [],
   "source": [
    "# count words\n",
    "number_of_words = text_module.count_words(text=text)\n",
    "print(number_of_words)"
   ]
  },
  {
   "cell_type": "code",
   "execution_count": null,
   "metadata": {},
   "outputs": [],
   "source": [
    "# Count sentences\n",
    "num_of_sentences = text_module.count_sentences(text=text)\n",
    "print(num_of_sentences)"
   ]
  },
  {
   "cell_type": "code",
   "execution_count": null,
   "metadata": {},
   "outputs": [],
   "source": [
    "# remove whitespaces\n",
    "rem_whitespace = text_module.remove_whitespaces(text=text)\n",
    "print(rm_whitespace)"
   ]
  },
  {
   "cell_type": "code",
   "execution_count": null,
   "metadata": {},
   "outputs": [],
   "source": [
    "# remove punctuation\n",
    "rm_punctuation = text_module.remove_punctuations(text=text)\n",
    "print(rm_punctuation)"
   ]
  },
  {
   "cell_type": "code",
   "execution_count": null,
   "metadata": {},
   "outputs": [],
   "source": []
  }
 ],
 "metadata": {
  "kernelspec": {
   "display_name": "Python 3",
   "language": "python",
   "name": "python3"
  },
  "language_info": {
   "codemirror_mode": {
    "name": "ipython",
    "version": 3
   },
   "file_extension": ".py",
   "mimetype": "text/x-python",
   "name": "python",
   "nbconvert_exporter": "python",
   "pygments_lexer": "ipython3",
   "version": "3.8.5"
  }
 },
 "nbformat": 4,
 "nbformat_minor": 4
}
